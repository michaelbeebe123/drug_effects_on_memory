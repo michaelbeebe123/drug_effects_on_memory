{
 "cells": [
  {
   "cell_type": "markdown",
   "metadata": {},
   "source": [
    "# Context\n",
    "\n",
    "An experiment on the effects of anti-anxiety medicine on memory recall when being primed with happy or sad memories. The participants were done on novel Islanders whom mimic real-life humans in response to external factors.\n",
    "\n",
    "Drugs of interest (known-as) [Dosage 1, 2, 3]:\n",
    "\n",
    "A - Alprazolam (Xanax, Long-term) [1mg/3mg/5mg]\n",
    "\n",
    "T - Triazolam (Halcion, Short-term) [0.25mg/0.5mg/0.75mg]\n",
    "\n",
    "S - Sugar Tablet (Placebo) [1 tab/2tabs/3tabs]\n",
    "\n",
    "*Dosages follow a 1:1 ratio to ensure validity\n",
    "*Happy or Sad memories were primed 10 minutes prior to testing\n",
    "*Participants tested every day for 1 week to mimic addiction\n",
    "\n",
    "Building the Case:\n",
    "Obstructive effects of Benzodiazepines (Anti-Anxiety Medicine):\n",
    "\n",
    "Long term adverse effects on Long Term Potentiation of synapses, metacognition and memory recall ability\n",
    "http://www.jstor.org/stable/43854146\n",
    "Happy Memories:\n",
    "\n",
    "research shown positive memories to have a deeper and greater volume of striatum representation under an fMRI\n",
    "https://www.sciencedirect.com/science/article/pii/S0896627314008484\n",
    "Sad Memories:\n",
    "\n",
    "research shown sad memories invokes better memory recall for evolutionary purpose whereas, happy memories are more susceptible to false memories\n",
    "http://www.jstor.org/stable/40064315\n",
    "Participants - all genders above 25+ years old to ensure a fully developed pre-frontal cortex, a region responsible for higher level cognition and memory recall."
   ]
  },
  {
   "cell_type": "markdown",
   "metadata": {},
   "source": [
    "# QUESTIONS:\n",
    "\n",
    "1.) How does anti-anxiety medicine affect you differently by age?\n",
    "---\n",
    "\n",
    "2.) Is there a level of plateauing in effectiveness of anti-anxiety medicine - if so, at what point?\n",
    "---\n",
    "\n",
    "3.) Effect of anti-anxiety medicine on memory recall?\n",
    "---\n",
    "\n",
    "4.) Effectiveness of placebos in a test environment?\n",
    "---"
   ]
  },
  {
   "cell_type": "markdown",
   "metadata": {},
   "source": [
    "Importing Libraries\n",
    "---"
   ]
  },
  {
   "cell_type": "code",
   "execution_count": 10,
   "metadata": {},
   "outputs": [],
   "source": [
    "import pandas as pd\n",
    "import matplotlib.pyplot as plt\n",
    "import seaborn as sns\n",
    "import numpy as np"
   ]
  },
  {
   "cell_type": "markdown",
   "metadata": {},
   "source": [
    "Creating Initial DF\n",
    "---"
   ]
  },
  {
   "cell_type": "code",
   "execution_count": 11,
   "metadata": {},
   "outputs": [
    {
     "output_type": "execute_result",
     "data": {
      "text/plain": "  first_name last_name  age Happy_Sad_group  Dosage Drug  Mem_Score_Before  \\\n0    Bastian  Carrasco   25               H       1    A              63.5   \n1       Evan  Carrasco   52               S       1    A              41.6   \n2  Florencia  Carrasco   29               H       1    A              59.7   \n3      Holly  Carrasco   50               S       1    A              51.7   \n4     Justin  Carrasco   52               H       1    A              47.0   \n\n   Mem_Score_After  Diff  \n0             61.2  -2.3  \n1             40.7  -0.9  \n2             55.1  -4.6  \n3             51.2  -0.5  \n4             47.1   0.1  ",
      "text/html": "<div>\n<style scoped>\n    .dataframe tbody tr th:only-of-type {\n        vertical-align: middle;\n    }\n\n    .dataframe tbody tr th {\n        vertical-align: top;\n    }\n\n    .dataframe thead th {\n        text-align: right;\n    }\n</style>\n<table border=\"1\" class=\"dataframe\">\n  <thead>\n    <tr style=\"text-align: right;\">\n      <th></th>\n      <th>first_name</th>\n      <th>last_name</th>\n      <th>age</th>\n      <th>Happy_Sad_group</th>\n      <th>Dosage</th>\n      <th>Drug</th>\n      <th>Mem_Score_Before</th>\n      <th>Mem_Score_After</th>\n      <th>Diff</th>\n    </tr>\n  </thead>\n  <tbody>\n    <tr>\n      <td>0</td>\n      <td>Bastian</td>\n      <td>Carrasco</td>\n      <td>25</td>\n      <td>H</td>\n      <td>1</td>\n      <td>A</td>\n      <td>63.5</td>\n      <td>61.2</td>\n      <td>-2.3</td>\n    </tr>\n    <tr>\n      <td>1</td>\n      <td>Evan</td>\n      <td>Carrasco</td>\n      <td>52</td>\n      <td>S</td>\n      <td>1</td>\n      <td>A</td>\n      <td>41.6</td>\n      <td>40.7</td>\n      <td>-0.9</td>\n    </tr>\n    <tr>\n      <td>2</td>\n      <td>Florencia</td>\n      <td>Carrasco</td>\n      <td>29</td>\n      <td>H</td>\n      <td>1</td>\n      <td>A</td>\n      <td>59.7</td>\n      <td>55.1</td>\n      <td>-4.6</td>\n    </tr>\n    <tr>\n      <td>3</td>\n      <td>Holly</td>\n      <td>Carrasco</td>\n      <td>50</td>\n      <td>S</td>\n      <td>1</td>\n      <td>A</td>\n      <td>51.7</td>\n      <td>51.2</td>\n      <td>-0.5</td>\n    </tr>\n    <tr>\n      <td>4</td>\n      <td>Justin</td>\n      <td>Carrasco</td>\n      <td>52</td>\n      <td>H</td>\n      <td>1</td>\n      <td>A</td>\n      <td>47.0</td>\n      <td>47.1</td>\n      <td>0.1</td>\n    </tr>\n  </tbody>\n</table>\n</div>"
     },
     "metadata": {},
     "execution_count": 11
    }
   ],
   "source": [
    "df1 = pd.read_csv('./input/islander_data.csv')\n",
    "df1.head()"
   ]
  },
  {
   "cell_type": "markdown",
   "metadata": {},
   "source": [
    "Checking out what this data is looking like\n",
    "---"
   ]
  },
  {
   "cell_type": "markdown",
   "metadata": {},
   "source": [
    "Data Types"
   ]
  },
  {
   "cell_type": "code",
   "execution_count": 12,
   "metadata": {},
   "outputs": [
    {
     "output_type": "execute_result",
     "data": {
      "text/plain": "first_name           object\nlast_name            object\nage                   int64\nHappy_Sad_group      object\nDosage                int64\nDrug                 object\nMem_Score_Before    float64\nMem_Score_After     float64\nDiff                float64\ndtype: object"
     },
     "metadata": {},
     "execution_count": 12
    }
   ],
   "source": [
    "df1.dtypes"
   ]
  },
  {
   "cell_type": "markdown",
   "metadata": {},
   "source": [
    "Nulls"
   ]
  },
  {
   "cell_type": "code",
   "execution_count": 13,
   "metadata": {},
   "outputs": [
    {
     "output_type": "execute_result",
     "data": {
      "text/plain": "first_name          0\nlast_name           0\nage                 0\nHappy_Sad_group     0\nDosage              0\nDrug                0\nMem_Score_Before    0\nMem_Score_After     0\nDiff                0\ndtype: int64"
     },
     "metadata": {},
     "execution_count": 13
    }
   ],
   "source": [
    "df1.isnull().sum()"
   ]
  },
  {
   "cell_type": "markdown",
   "metadata": {},
   "source": [
    "Description"
   ]
  },
  {
   "cell_type": "code",
   "execution_count": 14,
   "metadata": {},
   "outputs": [
    {
     "output_type": "execute_result",
     "data": {
      "text/plain": "              age      Dosage  Mem_Score_Before  Mem_Score_After        Diff\ncount  198.000000  198.000000        198.000000       198.000000  198.000000\nmean    39.530303    1.989899         57.967677        60.922222    2.954545\nstd     12.023099    0.818504         15.766007        18.133851   10.754603\nmin     24.000000    1.000000         27.200000        27.100000  -40.400000\n25%     30.000000    1.000000         46.525000        47.175000   -3.175000\n50%     37.000000    2.000000         54.800000        56.750000    1.700000\n75%     48.000000    3.000000         68.400000        73.250000    5.925000\nmax     83.000000    3.000000        110.000000       120.000000   49.000000",
      "text/html": "<div>\n<style scoped>\n    .dataframe tbody tr th:only-of-type {\n        vertical-align: middle;\n    }\n\n    .dataframe tbody tr th {\n        vertical-align: top;\n    }\n\n    .dataframe thead th {\n        text-align: right;\n    }\n</style>\n<table border=\"1\" class=\"dataframe\">\n  <thead>\n    <tr style=\"text-align: right;\">\n      <th></th>\n      <th>age</th>\n      <th>Dosage</th>\n      <th>Mem_Score_Before</th>\n      <th>Mem_Score_After</th>\n      <th>Diff</th>\n    </tr>\n  </thead>\n  <tbody>\n    <tr>\n      <td>count</td>\n      <td>198.000000</td>\n      <td>198.000000</td>\n      <td>198.000000</td>\n      <td>198.000000</td>\n      <td>198.000000</td>\n    </tr>\n    <tr>\n      <td>mean</td>\n      <td>39.530303</td>\n      <td>1.989899</td>\n      <td>57.967677</td>\n      <td>60.922222</td>\n      <td>2.954545</td>\n    </tr>\n    <tr>\n      <td>std</td>\n      <td>12.023099</td>\n      <td>0.818504</td>\n      <td>15.766007</td>\n      <td>18.133851</td>\n      <td>10.754603</td>\n    </tr>\n    <tr>\n      <td>min</td>\n      <td>24.000000</td>\n      <td>1.000000</td>\n      <td>27.200000</td>\n      <td>27.100000</td>\n      <td>-40.400000</td>\n    </tr>\n    <tr>\n      <td>25%</td>\n      <td>30.000000</td>\n      <td>1.000000</td>\n      <td>46.525000</td>\n      <td>47.175000</td>\n      <td>-3.175000</td>\n    </tr>\n    <tr>\n      <td>50%</td>\n      <td>37.000000</td>\n      <td>2.000000</td>\n      <td>54.800000</td>\n      <td>56.750000</td>\n      <td>1.700000</td>\n    </tr>\n    <tr>\n      <td>75%</td>\n      <td>48.000000</td>\n      <td>3.000000</td>\n      <td>68.400000</td>\n      <td>73.250000</td>\n      <td>5.925000</td>\n    </tr>\n    <tr>\n      <td>max</td>\n      <td>83.000000</td>\n      <td>3.000000</td>\n      <td>110.000000</td>\n      <td>120.000000</td>\n      <td>49.000000</td>\n    </tr>\n  </tbody>\n</table>\n</div>"
     },
     "metadata": {},
     "execution_count": 14
    }
   ],
   "source": [
    "df1.describe()"
   ]
  },
  {
   "cell_type": "markdown",
   "metadata": {},
   "source": [
    "Dataframe"
   ]
  },
  {
   "cell_type": "code",
   "execution_count": 17,
   "metadata": {},
   "outputs": [
    {
     "output_type": "execute_result",
     "data": {
      "text/plain": "     first_name  last_name  age Happy_Sad_group  Dosage Drug  \\\n0       Bastian   Carrasco   25               H       1    A   \n1          Evan   Carrasco   52               S       1    A   \n2     Florencia   Carrasco   29               H       1    A   \n3         Holly   Carrasco   50               S       1    A   \n4        Justin   Carrasco   52               H       1    A   \n..          ...        ...  ...             ...     ...  ...   \n193       Jacob      Novak   52               H       3    T   \n194         Teo    Steiner   41               S       3    T   \n195   Alexander  Takahashi   54               S       3    T   \n196  Alexandere  Takahashi   40               H       3    T   \n197       Chloe  Takahashi   32               S       3    T   \n\n     Mem_Score_Before  Mem_Score_After  Diff  \n0                63.5             61.2  -2.3  \n1                41.6             40.7  -0.9  \n2                59.7             55.1  -4.6  \n3                51.7             51.2  -0.5  \n4                47.0             47.1   0.1  \n..                ...              ...   ...  \n193              71.3             74.3   3.0  \n194              72.5             70.4  -2.1  \n195              30.8             33.1   2.3  \n196              53.6             53.8   0.2  \n197              43.1             42.1  -1.0  \n\n[198 rows x 9 columns]",
      "text/html": "<div>\n<style scoped>\n    .dataframe tbody tr th:only-of-type {\n        vertical-align: middle;\n    }\n\n    .dataframe tbody tr th {\n        vertical-align: top;\n    }\n\n    .dataframe thead th {\n        text-align: right;\n    }\n</style>\n<table border=\"1\" class=\"dataframe\">\n  <thead>\n    <tr style=\"text-align: right;\">\n      <th></th>\n      <th>first_name</th>\n      <th>last_name</th>\n      <th>age</th>\n      <th>Happy_Sad_group</th>\n      <th>Dosage</th>\n      <th>Drug</th>\n      <th>Mem_Score_Before</th>\n      <th>Mem_Score_After</th>\n      <th>Diff</th>\n    </tr>\n  </thead>\n  <tbody>\n    <tr>\n      <td>0</td>\n      <td>Bastian</td>\n      <td>Carrasco</td>\n      <td>25</td>\n      <td>H</td>\n      <td>1</td>\n      <td>A</td>\n      <td>63.5</td>\n      <td>61.2</td>\n      <td>-2.3</td>\n    </tr>\n    <tr>\n      <td>1</td>\n      <td>Evan</td>\n      <td>Carrasco</td>\n      <td>52</td>\n      <td>S</td>\n      <td>1</td>\n      <td>A</td>\n      <td>41.6</td>\n      <td>40.7</td>\n      <td>-0.9</td>\n    </tr>\n    <tr>\n      <td>2</td>\n      <td>Florencia</td>\n      <td>Carrasco</td>\n      <td>29</td>\n      <td>H</td>\n      <td>1</td>\n      <td>A</td>\n      <td>59.7</td>\n      <td>55.1</td>\n      <td>-4.6</td>\n    </tr>\n    <tr>\n      <td>3</td>\n      <td>Holly</td>\n      <td>Carrasco</td>\n      <td>50</td>\n      <td>S</td>\n      <td>1</td>\n      <td>A</td>\n      <td>51.7</td>\n      <td>51.2</td>\n      <td>-0.5</td>\n    </tr>\n    <tr>\n      <td>4</td>\n      <td>Justin</td>\n      <td>Carrasco</td>\n      <td>52</td>\n      <td>H</td>\n      <td>1</td>\n      <td>A</td>\n      <td>47.0</td>\n      <td>47.1</td>\n      <td>0.1</td>\n    </tr>\n    <tr>\n      <td>...</td>\n      <td>...</td>\n      <td>...</td>\n      <td>...</td>\n      <td>...</td>\n      <td>...</td>\n      <td>...</td>\n      <td>...</td>\n      <td>...</td>\n      <td>...</td>\n    </tr>\n    <tr>\n      <td>193</td>\n      <td>Jacob</td>\n      <td>Novak</td>\n      <td>52</td>\n      <td>H</td>\n      <td>3</td>\n      <td>T</td>\n      <td>71.3</td>\n      <td>74.3</td>\n      <td>3.0</td>\n    </tr>\n    <tr>\n      <td>194</td>\n      <td>Teo</td>\n      <td>Steiner</td>\n      <td>41</td>\n      <td>S</td>\n      <td>3</td>\n      <td>T</td>\n      <td>72.5</td>\n      <td>70.4</td>\n      <td>-2.1</td>\n    </tr>\n    <tr>\n      <td>195</td>\n      <td>Alexander</td>\n      <td>Takahashi</td>\n      <td>54</td>\n      <td>S</td>\n      <td>3</td>\n      <td>T</td>\n      <td>30.8</td>\n      <td>33.1</td>\n      <td>2.3</td>\n    </tr>\n    <tr>\n      <td>196</td>\n      <td>Alexandere</td>\n      <td>Takahashi</td>\n      <td>40</td>\n      <td>H</td>\n      <td>3</td>\n      <td>T</td>\n      <td>53.6</td>\n      <td>53.8</td>\n      <td>0.2</td>\n    </tr>\n    <tr>\n      <td>197</td>\n      <td>Chloe</td>\n      <td>Takahashi</td>\n      <td>32</td>\n      <td>S</td>\n      <td>3</td>\n      <td>T</td>\n      <td>43.1</td>\n      <td>42.1</td>\n      <td>-1.0</td>\n    </tr>\n  </tbody>\n</table>\n<p>198 rows × 9 columns</p>\n</div>"
     },
     "metadata": {},
     "execution_count": 17
    }
   ],
   "source": [
    "df1"
   ]
  },
  {
   "cell_type": "markdown",
   "metadata": {},
   "source": [
    "# Exploratory Analysis"
   ]
  },
  {
   "cell_type": "markdown",
   "metadata": {},
   "source": [
    "Breakdown of age"
   ]
  },
  {
   "cell_type": "code",
   "execution_count": 18,
   "metadata": {},
   "outputs": [
    {
     "output_type": "execute_result",
     "data": {
      "text/plain": "37    13\n29    12\n34    11\n35    11\n25    10\n28    10\n27     9\n26     7\n38     7\n40     7\n32     7\n33     7\n52     6\n51     6\n50     5\n49     5\n30     5\n54     4\n36     4\n39     4\n48     4\n42     4\n53     3\n46     3\n45     3\n31     3\n43     2\n47     2\n41     2\n62     2\n56     2\n63     2\n65     2\n68     2\n44     2\n83     1\n80     1\n55     1\n59     1\n60     1\n66     1\n69     1\n72     1\n73     1\n24     1\nName: age, dtype: int64"
     },
     "metadata": {},
     "execution_count": 18
    }
   ],
   "source": [
    "df1['age'].value_counts()"
   ]
  },
  {
   "cell_type": "code",
   "execution_count": 21,
   "metadata": {},
   "outputs": [
    {
     "output_type": "execute_result",
     "data": {
      "text/plain": "     first_name  last_name  age Happy_Sad_group  Dosage Drug  \\\n0       Bastian   Carrasco   25               H       1    A   \n1          Evan   Carrasco   52               S       1    A   \n2     Florencia   Carrasco   29               H       1    A   \n3         Holly   Carrasco   50               S       1    A   \n4        Justin   Carrasco   52               H       1    A   \n..          ...        ...  ...             ...     ...  ...   \n193       Jacob      Novak   52               H       3    T   \n194         Teo    Steiner   41               S       3    T   \n195   Alexander  Takahashi   54               S       3    T   \n196  Alexandere  Takahashi   40               H       3    T   \n197       Chloe  Takahashi   32               S       3    T   \n\n     Mem_Score_Before  Mem_Score_After  Diff  \n0                63.5             61.2  -2.3  \n1                41.6             40.7  -0.9  \n2                59.7             55.1  -4.6  \n3                51.7             51.2  -0.5  \n4                47.0             47.1   0.1  \n..                ...              ...   ...  \n193              71.3             74.3   3.0  \n194              72.5             70.4  -2.1  \n195              30.8             33.1   2.3  \n196              53.6             53.8   0.2  \n197              43.1             42.1  -1.0  \n\n[198 rows x 9 columns]",
      "text/html": "<div>\n<style scoped>\n    .dataframe tbody tr th:only-of-type {\n        vertical-align: middle;\n    }\n\n    .dataframe tbody tr th {\n        vertical-align: top;\n    }\n\n    .dataframe thead th {\n        text-align: right;\n    }\n</style>\n<table border=\"1\" class=\"dataframe\">\n  <thead>\n    <tr style=\"text-align: right;\">\n      <th></th>\n      <th>first_name</th>\n      <th>last_name</th>\n      <th>age</th>\n      <th>Happy_Sad_group</th>\n      <th>Dosage</th>\n      <th>Drug</th>\n      <th>Mem_Score_Before</th>\n      <th>Mem_Score_After</th>\n      <th>Diff</th>\n    </tr>\n  </thead>\n  <tbody>\n    <tr>\n      <td>0</td>\n      <td>Bastian</td>\n      <td>Carrasco</td>\n      <td>25</td>\n      <td>H</td>\n      <td>1</td>\n      <td>A</td>\n      <td>63.5</td>\n      <td>61.2</td>\n      <td>-2.3</td>\n    </tr>\n    <tr>\n      <td>1</td>\n      <td>Evan</td>\n      <td>Carrasco</td>\n      <td>52</td>\n      <td>S</td>\n      <td>1</td>\n      <td>A</td>\n      <td>41.6</td>\n      <td>40.7</td>\n      <td>-0.9</td>\n    </tr>\n    <tr>\n      <td>2</td>\n      <td>Florencia</td>\n      <td>Carrasco</td>\n      <td>29</td>\n      <td>H</td>\n      <td>1</td>\n      <td>A</td>\n      <td>59.7</td>\n      <td>55.1</td>\n      <td>-4.6</td>\n    </tr>\n    <tr>\n      <td>3</td>\n      <td>Holly</td>\n      <td>Carrasco</td>\n      <td>50</td>\n      <td>S</td>\n      <td>1</td>\n      <td>A</td>\n      <td>51.7</td>\n      <td>51.2</td>\n      <td>-0.5</td>\n    </tr>\n    <tr>\n      <td>4</td>\n      <td>Justin</td>\n      <td>Carrasco</td>\n      <td>52</td>\n      <td>H</td>\n      <td>1</td>\n      <td>A</td>\n      <td>47.0</td>\n      <td>47.1</td>\n      <td>0.1</td>\n    </tr>\n    <tr>\n      <td>...</td>\n      <td>...</td>\n      <td>...</td>\n      <td>...</td>\n      <td>...</td>\n      <td>...</td>\n      <td>...</td>\n      <td>...</td>\n      <td>...</td>\n      <td>...</td>\n    </tr>\n    <tr>\n      <td>193</td>\n      <td>Jacob</td>\n      <td>Novak</td>\n      <td>52</td>\n      <td>H</td>\n      <td>3</td>\n      <td>T</td>\n      <td>71.3</td>\n      <td>74.3</td>\n      <td>3.0</td>\n    </tr>\n    <tr>\n      <td>194</td>\n      <td>Teo</td>\n      <td>Steiner</td>\n      <td>41</td>\n      <td>S</td>\n      <td>3</td>\n      <td>T</td>\n      <td>72.5</td>\n      <td>70.4</td>\n      <td>-2.1</td>\n    </tr>\n    <tr>\n      <td>195</td>\n      <td>Alexander</td>\n      <td>Takahashi</td>\n      <td>54</td>\n      <td>S</td>\n      <td>3</td>\n      <td>T</td>\n      <td>30.8</td>\n      <td>33.1</td>\n      <td>2.3</td>\n    </tr>\n    <tr>\n      <td>196</td>\n      <td>Alexandere</td>\n      <td>Takahashi</td>\n      <td>40</td>\n      <td>H</td>\n      <td>3</td>\n      <td>T</td>\n      <td>53.6</td>\n      <td>53.8</td>\n      <td>0.2</td>\n    </tr>\n    <tr>\n      <td>197</td>\n      <td>Chloe</td>\n      <td>Takahashi</td>\n      <td>32</td>\n      <td>S</td>\n      <td>3</td>\n      <td>T</td>\n      <td>43.1</td>\n      <td>42.1</td>\n      <td>-1.0</td>\n    </tr>\n  </tbody>\n</table>\n<p>198 rows × 9 columns</p>\n</div>"
     },
     "metadata": {},
     "execution_count": 21
    }
   ],
   "source": []
  },
  {
   "cell_type": "code",
   "execution_count": null,
   "metadata": {},
   "outputs": [],
   "source": []
  }
 ],
 "metadata": {
  "language_info": {
   "codemirror_mode": {
    "name": "ipython",
    "version": 3
   },
   "file_extension": ".py",
   "mimetype": "text/x-python",
   "name": "python",
   "nbconvert_exporter": "python",
   "pygments_lexer": "ipython3",
   "version": "3.7.4-final"
  },
  "orig_nbformat": 2,
  "kernelspec": {
   "name": "python37464bitcondaa58dd1e144d8439791d7589aec1f1e4e",
   "display_name": "Python 3.7.4 64-bit (conda)"
  }
 },
 "nbformat": 4,
 "nbformat_minor": 2
}