{
 "cells": [
  {
   "cell_type": "markdown",
   "metadata": {},
   "source": [
    "# QUESTIONS:\n",
    "\n",
    "1.) How does anti-anxiety medicine affect you differently by age?\n",
    "\n",
    "2.) Is there a level of plateauing in effectiveness of anti-anxiety medicine - if so, at what point?\n",
    "\n",
    "3.) Effect of anti-anxiety medicine on memory recall?\n",
    "\n",
    "4.) Effectiveness of placebos in a test environment?"
   ]
  }
 ],
 "metadata": {
  "language_info": {
   "codemirror_mode": {
    "name": "ipython",
    "version": 3
   },
   "file_extension": ".py",
   "mimetype": "text/x-python",
   "name": "python",
   "nbconvert_exporter": "python",
   "pygments_lexer": "ipython3",
   "version": 3
  },
  "orig_nbformat": 2
 },
 "nbformat": 4,
 "nbformat_minor": 2
}